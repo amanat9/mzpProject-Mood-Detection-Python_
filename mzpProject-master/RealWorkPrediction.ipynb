{
 "cells": [
  {
   "cell_type": "code",
   "execution_count": 2,
   "metadata": {},
   "outputs": [],
   "source": [
    "import matplotlib.pyplot as plt\n",
    "import pandas as pd\n",
    "import _pickle as cPickle\n",
    "import numpy as np"
   ]
  },
  {
   "cell_type": "code",
   "execution_count": 3,
   "metadata": {},
   "outputs": [],
   "source": [
    "from sklearn.metrics import mean_squared_error\n",
    "from sklearn.metrics import mean_absolute_error"
   ]
  },
  {
   "cell_type": "code",
   "execution_count": 4,
   "metadata": {},
   "outputs": [],
   "source": [
    "Dataxy=pd.read_csv(\"FinalDataset.csv\")"
   ]
  },
  {
   "cell_type": "code",
   "execution_count": 5,
   "metadata": {},
   "outputs": [],
   "source": [
    "#only keeping valance\n",
    "DataVal=Dataxy.iloc[:,:-3]"
   ]
  },
  {
   "cell_type": "code",
   "execution_count": 6,
   "metadata": {},
   "outputs": [
    {
     "data": {
      "text/plain": [
       "(1280, 121)"
      ]
     },
     "execution_count": 6,
     "metadata": {},
     "output_type": "execute_result"
    }
   ],
   "source": [
    "np.shape(DataVal)"
   ]
  },
  {
   "cell_type": "code",
   "execution_count": null,
   "metadata": {},
   "outputs": [],
   "source": []
  },
  {
   "cell_type": "code",
   "execution_count": 7,
   "metadata": {},
   "outputs": [
    {
     "data": {
      "text/plain": [
       "0    7.71\n",
       "1    8.10\n",
       "2    8.58\n",
       "3    4.94\n",
       "4    6.96\n",
       "Name: Valance, dtype: float64"
      ]
     },
     "execution_count": 7,
     "metadata": {},
     "output_type": "execute_result"
    }
   ],
   "source": [
    "dt=DataVal['Valance']\n",
    "dt.head()"
   ]
  },
  {
   "cell_type": "code",
   "execution_count": null,
   "metadata": {},
   "outputs": [],
   "source": []
  },
  {
   "cell_type": "code",
   "execution_count": 8,
   "metadata": {},
   "outputs": [
    {
     "name": "stdout",
     "output_type": "stream",
     "text": [
      "0    7.71\n",
      "1    8.10\n",
      "2    8.58\n",
      "3    4.94\n",
      "4    6.96\n",
      "Name: Valance, dtype: float64\n",
      "0    1.0\n",
      "1    1.0\n",
      "2    1.0\n",
      "3    0.0\n",
      "4    1.0\n",
      "Name: Valance, dtype: float64\n"
     ]
    },
    {
     "name": "stderr",
     "output_type": "stream",
     "text": [
      "C:\\ProgramData\\Anaconda3\\lib\\site-packages\\ipykernel_launcher.py:5: FutureWarning: get_value is deprecated and will be removed in a future release. Please use .at[] or .iat[] accessors instead\n",
      "  \"\"\"\n",
      "C:\\ProgramData\\Anaconda3\\lib\\site-packages\\ipykernel_launcher.py:7: FutureWarning: set_value is deprecated and will be removed in a future release. Please use .at[] or .iat[] accessors instead\n",
      "  import sys\n",
      "C:\\ProgramData\\Anaconda3\\lib\\site-packages\\ipykernel_launcher.py:9: FutureWarning: set_value is deprecated and will be removed in a future release. Please use .at[] or .iat[] accessors instead\n",
      "  if __name__ == '__main__':\n"
     ]
    }
   ],
   "source": [
    "##making the the valance binary \n",
    "bL= DataVal[\"Valance\"]\n",
    "print(bL.head())\n",
    "for idx in bL.index:\n",
    "    q = bL.get_value(idx, 'Valance')\n",
    "    if q>=5:\n",
    "        bL.set_value(idx,  1)\n",
    "    else :\n",
    "        bL.set_value(idx,  0)\n",
    "print(bL.head())"
   ]
  },
  {
   "cell_type": "code",
   "execution_count": 9,
   "metadata": {},
   "outputs": [
    {
     "name": "stderr",
     "output_type": "stream",
     "text": [
      "C:\\ProgramData\\Anaconda3\\lib\\site-packages\\ipykernel_launcher.py:1: SettingWithCopyWarning: \n",
      "A value is trying to be set on a copy of a slice from a DataFrame.\n",
      "Try using .loc[row_indexer,col_indexer] = value instead\n",
      "\n",
      "See the caveats in the documentation: http://pandas.pydata.org/pandas-docs/stable/indexing.html#indexing-view-versus-copy\n",
      "  \"\"\"Entry point for launching an IPython kernel.\n"
     ]
    },
    {
     "data": {
      "text/html": [
       "<div>\n",
       "<style scoped>\n",
       "    .dataframe tbody tr th:only-of-type {\n",
       "        vertical-align: middle;\n",
       "    }\n",
       "\n",
       "    .dataframe tbody tr th {\n",
       "        vertical-align: top;\n",
       "    }\n",
       "\n",
       "    .dataframe thead th {\n",
       "        text-align: right;\n",
       "    }\n",
       "</style>\n",
       "<table border=\"1\" class=\"dataframe\">\n",
       "  <thead>\n",
       "    <tr style=\"text-align: right;\">\n",
       "      <th></th>\n",
       "      <th>senDfa0</th>\n",
       "      <th>senDfa1</th>\n",
       "      <th>senDfa2</th>\n",
       "      <th>senDfa3</th>\n",
       "      <th>senDfa4</th>\n",
       "      <th>senDfa5</th>\n",
       "      <th>senDfa6</th>\n",
       "      <th>senDfa7</th>\n",
       "      <th>senDfa8</th>\n",
       "      <th>senDfa9</th>\n",
       "      <th>...</th>\n",
       "      <th>senHurst31</th>\n",
       "      <th>senHurst32</th>\n",
       "      <th>senHurst33</th>\n",
       "      <th>senHurst34</th>\n",
       "      <th>senHurst35</th>\n",
       "      <th>senHurst36</th>\n",
       "      <th>senHurst37</th>\n",
       "      <th>senHurst38</th>\n",
       "      <th>senHurst39</th>\n",
       "      <th>Valance</th>\n",
       "    </tr>\n",
       "  </thead>\n",
       "  <tbody>\n",
       "    <tr>\n",
       "      <th>0</th>\n",
       "      <td>-0.002133</td>\n",
       "      <td>-0.000325</td>\n",
       "      <td>-0.000156</td>\n",
       "      <td>0.001114</td>\n",
       "      <td>0.000636</td>\n",
       "      <td>-0.001559</td>\n",
       "      <td>0.001631</td>\n",
       "      <td>0.001380</td>\n",
       "      <td>-0.006688</td>\n",
       "      <td>-0.007642</td>\n",
       "      <td>...</td>\n",
       "      <td>0.131089</td>\n",
       "      <td>1.110708</td>\n",
       "      <td>0.890081</td>\n",
       "      <td>0.939189</td>\n",
       "      <td>1.033011</td>\n",
       "      <td>0.996901</td>\n",
       "      <td>0.809074</td>\n",
       "      <td>0.970004</td>\n",
       "      <td>NaN</td>\n",
       "      <td>1.0</td>\n",
       "    </tr>\n",
       "    <tr>\n",
       "      <th>1</th>\n",
       "      <td>-0.006262</td>\n",
       "      <td>-0.006898</td>\n",
       "      <td>-0.009834</td>\n",
       "      <td>-0.008837</td>\n",
       "      <td>-0.005583</td>\n",
       "      <td>-0.005103</td>\n",
       "      <td>-0.005215</td>\n",
       "      <td>-0.007236</td>\n",
       "      <td>-0.009539</td>\n",
       "      <td>-0.003813</td>\n",
       "      <td>...</td>\n",
       "      <td>0.152521</td>\n",
       "      <td>0.849700</td>\n",
       "      <td>1.098002</td>\n",
       "      <td>1.046685</td>\n",
       "      <td>1.085901</td>\n",
       "      <td>NaN</td>\n",
       "      <td>0.936995</td>\n",
       "      <td>0.937595</td>\n",
       "      <td>NaN</td>\n",
       "      <td>1.0</td>\n",
       "    </tr>\n",
       "    <tr>\n",
       "      <th>2</th>\n",
       "      <td>-0.007681</td>\n",
       "      <td>-0.011060</td>\n",
       "      <td>-0.008450</td>\n",
       "      <td>-0.003313</td>\n",
       "      <td>-0.008348</td>\n",
       "      <td>-0.004510</td>\n",
       "      <td>-0.008340</td>\n",
       "      <td>-0.003636</td>\n",
       "      <td>-0.008242</td>\n",
       "      <td>-0.010575</td>\n",
       "      <td>...</td>\n",
       "      <td>0.159770</td>\n",
       "      <td>1.063228</td>\n",
       "      <td>1.082313</td>\n",
       "      <td>1.063166</td>\n",
       "      <td>1.088769</td>\n",
       "      <td>NaN</td>\n",
       "      <td>0.543609</td>\n",
       "      <td>0.995391</td>\n",
       "      <td>NaN</td>\n",
       "      <td>1.0</td>\n",
       "    </tr>\n",
       "    <tr>\n",
       "      <th>3</th>\n",
       "      <td>-0.017675</td>\n",
       "      <td>-0.012013</td>\n",
       "      <td>-0.012038</td>\n",
       "      <td>-0.021174</td>\n",
       "      <td>-0.018692</td>\n",
       "      <td>-0.003882</td>\n",
       "      <td>-0.013477</td>\n",
       "      <td>-0.007505</td>\n",
       "      <td>-0.014245</td>\n",
       "      <td>-0.013097</td>\n",
       "      <td>...</td>\n",
       "      <td>0.168248</td>\n",
       "      <td>1.022074</td>\n",
       "      <td>1.117156</td>\n",
       "      <td>1.086076</td>\n",
       "      <td>1.157497</td>\n",
       "      <td>0.978142</td>\n",
       "      <td>0.735437</td>\n",
       "      <td>1.031969</td>\n",
       "      <td>NaN</td>\n",
       "      <td>0.0</td>\n",
       "    </tr>\n",
       "    <tr>\n",
       "      <th>4</th>\n",
       "      <td>-0.009453</td>\n",
       "      <td>-0.006495</td>\n",
       "      <td>-0.006437</td>\n",
       "      <td>-0.008890</td>\n",
       "      <td>-0.005594</td>\n",
       "      <td>-0.008346</td>\n",
       "      <td>-0.004880</td>\n",
       "      <td>-0.004362</td>\n",
       "      <td>-0.003013</td>\n",
       "      <td>-0.008143</td>\n",
       "      <td>...</td>\n",
       "      <td>0.198912</td>\n",
       "      <td>0.996385</td>\n",
       "      <td>0.999356</td>\n",
       "      <td>1.003874</td>\n",
       "      <td>1.174798</td>\n",
       "      <td>NaN</td>\n",
       "      <td>0.831288</td>\n",
       "      <td>1.086271</td>\n",
       "      <td>NaN</td>\n",
       "      <td>1.0</td>\n",
       "    </tr>\n",
       "  </tbody>\n",
       "</table>\n",
       "<p>5 rows × 121 columns</p>\n",
       "</div>"
      ],
      "text/plain": [
       "    senDfa0   senDfa1   senDfa2   senDfa3   senDfa4   senDfa5   senDfa6  \\\n",
       "0 -0.002133 -0.000325 -0.000156  0.001114  0.000636 -0.001559  0.001631   \n",
       "1 -0.006262 -0.006898 -0.009834 -0.008837 -0.005583 -0.005103 -0.005215   \n",
       "2 -0.007681 -0.011060 -0.008450 -0.003313 -0.008348 -0.004510 -0.008340   \n",
       "3 -0.017675 -0.012013 -0.012038 -0.021174 -0.018692 -0.003882 -0.013477   \n",
       "4 -0.009453 -0.006495 -0.006437 -0.008890 -0.005594 -0.008346 -0.004880   \n",
       "\n",
       "    senDfa7   senDfa8   senDfa9   ...     senHurst31  senHurst32  senHurst33  \\\n",
       "0  0.001380 -0.006688 -0.007642   ...       0.131089    1.110708    0.890081   \n",
       "1 -0.007236 -0.009539 -0.003813   ...       0.152521    0.849700    1.098002   \n",
       "2 -0.003636 -0.008242 -0.010575   ...       0.159770    1.063228    1.082313   \n",
       "3 -0.007505 -0.014245 -0.013097   ...       0.168248    1.022074    1.117156   \n",
       "4 -0.004362 -0.003013 -0.008143   ...       0.198912    0.996385    0.999356   \n",
       "\n",
       "   senHurst34  senHurst35  senHurst36  senHurst37  senHurst38  senHurst39  \\\n",
       "0    0.939189    1.033011    0.996901    0.809074    0.970004         NaN   \n",
       "1    1.046685    1.085901         NaN    0.936995    0.937595         NaN   \n",
       "2    1.063166    1.088769         NaN    0.543609    0.995391         NaN   \n",
       "3    1.086076    1.157497    0.978142    0.735437    1.031969         NaN   \n",
       "4    1.003874    1.174798         NaN    0.831288    1.086271         NaN   \n",
       "\n",
       "   Valance  \n",
       "0      1.0  \n",
       "1      1.0  \n",
       "2      1.0  \n",
       "3      0.0  \n",
       "4      1.0  \n",
       "\n",
       "[5 rows x 121 columns]"
      ]
     },
     "execution_count": 9,
     "metadata": {},
     "output_type": "execute_result"
    }
   ],
   "source": [
    "DataVal['Valance'] = bL\n",
    "#DataVal=DataVal.drop('Valance', axis=1)\n",
    "#xd=pd.DataFrame(bL)\n",
    "#print(DataVal.head())\n",
    "DataVal.head()\n",
    "#DataVal.append(xd)\n",
    "#print(DataVal.columns)"
   ]
  },
  {
   "cell_type": "code",
   "execution_count": 10,
   "metadata": {},
   "outputs": [],
   "source": [
    "#DataAr=DataAr.replace(np.nan,0)"
   ]
  },
  {
   "cell_type": "code",
   "execution_count": 11,
   "metadata": {},
   "outputs": [
    {
     "data": {
      "text/html": [
       "<div>\n",
       "<style scoped>\n",
       "    .dataframe tbody tr th:only-of-type {\n",
       "        vertical-align: middle;\n",
       "    }\n",
       "\n",
       "    .dataframe tbody tr th {\n",
       "        vertical-align: top;\n",
       "    }\n",
       "\n",
       "    .dataframe thead th {\n",
       "        text-align: right;\n",
       "    }\n",
       "</style>\n",
       "<table border=\"1\" class=\"dataframe\">\n",
       "  <thead>\n",
       "    <tr style=\"text-align: right;\">\n",
       "      <th></th>\n",
       "      <th>0</th>\n",
       "    </tr>\n",
       "  </thead>\n",
       "  <tbody>\n",
       "    <tr>\n",
       "      <th>0</th>\n",
       "      <td>1.0</td>\n",
       "    </tr>\n",
       "    <tr>\n",
       "      <th>1</th>\n",
       "      <td>1.0</td>\n",
       "    </tr>\n",
       "    <tr>\n",
       "      <th>2</th>\n",
       "      <td>1.0</td>\n",
       "    </tr>\n",
       "    <tr>\n",
       "      <th>3</th>\n",
       "      <td>0.0</td>\n",
       "    </tr>\n",
       "    <tr>\n",
       "      <th>4</th>\n",
       "      <td>1.0</td>\n",
       "    </tr>\n",
       "  </tbody>\n",
       "</table>\n",
       "</div>"
      ],
      "text/plain": [
       "     0\n",
       "0  1.0\n",
       "1  1.0\n",
       "2  1.0\n",
       "3  0.0\n",
       "4  1.0"
      ]
     },
     "execution_count": 11,
     "metadata": {},
     "output_type": "execute_result"
    }
   ],
   "source": [
    "X = DataVal.iloc[:,:-1].values\n",
    "\n",
    "y = DataVal.iloc[:,-1].values\n",
    "y1=pd.DataFrame(y)\n",
    "y1.head()\n"
   ]
  },
  {
   "cell_type": "code",
   "execution_count": 12,
   "metadata": {},
   "outputs": [],
   "source": [
    "#Taking care of missing values\n",
    "from sklearn.preprocessing import Imputer\n",
    "\n",
    "imputer = Imputer(missing_values = 'NaN',strategy = 'median',axis=0)\n",
    "imputer = imputer.fit(X[:,:]) #SELECTING THE COLUMN WITH MISSING VALUES\n",
    "X[:,:] = imputer.transform(X[:,:])"
   ]
  },
  {
   "cell_type": "code",
   "execution_count": 13,
   "metadata": {},
   "outputs": [
    {
     "data": {
      "text/html": [
       "<div>\n",
       "<style scoped>\n",
       "    .dataframe tbody tr th:only-of-type {\n",
       "        vertical-align: middle;\n",
       "    }\n",
       "\n",
       "    .dataframe tbody tr th {\n",
       "        vertical-align: top;\n",
       "    }\n",
       "\n",
       "    .dataframe thead th {\n",
       "        text-align: right;\n",
       "    }\n",
       "</style>\n",
       "<table border=\"1\" class=\"dataframe\">\n",
       "  <thead>\n",
       "    <tr style=\"text-align: right;\">\n",
       "      <th></th>\n",
       "      <th>0</th>\n",
       "      <th>1</th>\n",
       "      <th>2</th>\n",
       "      <th>3</th>\n",
       "      <th>4</th>\n",
       "      <th>5</th>\n",
       "      <th>6</th>\n",
       "      <th>7</th>\n",
       "      <th>8</th>\n",
       "      <th>9</th>\n",
       "      <th>...</th>\n",
       "      <th>110</th>\n",
       "      <th>111</th>\n",
       "      <th>112</th>\n",
       "      <th>113</th>\n",
       "      <th>114</th>\n",
       "      <th>115</th>\n",
       "      <th>116</th>\n",
       "      <th>117</th>\n",
       "      <th>118</th>\n",
       "      <th>119</th>\n",
       "    </tr>\n",
       "  </thead>\n",
       "  <tbody>\n",
       "    <tr>\n",
       "      <th>0</th>\n",
       "      <td>-0.002133</td>\n",
       "      <td>-0.000325</td>\n",
       "      <td>-0.000156</td>\n",
       "      <td>0.001114</td>\n",
       "      <td>0.000636</td>\n",
       "      <td>-0.001559</td>\n",
       "      <td>0.001631</td>\n",
       "      <td>0.001380</td>\n",
       "      <td>-0.006688</td>\n",
       "      <td>-0.007642</td>\n",
       "      <td>...</td>\n",
       "      <td>0.183381</td>\n",
       "      <td>0.131089</td>\n",
       "      <td>1.110708</td>\n",
       "      <td>0.890081</td>\n",
       "      <td>0.939189</td>\n",
       "      <td>1.033011</td>\n",
       "      <td>0.996901</td>\n",
       "      <td>0.809074</td>\n",
       "      <td>0.970004</td>\n",
       "      <td>1.060949</td>\n",
       "    </tr>\n",
       "    <tr>\n",
       "      <th>1</th>\n",
       "      <td>-0.006262</td>\n",
       "      <td>-0.006898</td>\n",
       "      <td>-0.009834</td>\n",
       "      <td>-0.008837</td>\n",
       "      <td>-0.005583</td>\n",
       "      <td>-0.005103</td>\n",
       "      <td>-0.005215</td>\n",
       "      <td>-0.007236</td>\n",
       "      <td>-0.009539</td>\n",
       "      <td>-0.003813</td>\n",
       "      <td>...</td>\n",
       "      <td>0.254699</td>\n",
       "      <td>0.152521</td>\n",
       "      <td>0.849700</td>\n",
       "      <td>1.098002</td>\n",
       "      <td>1.046685</td>\n",
       "      <td>1.085901</td>\n",
       "      <td>1.001500</td>\n",
       "      <td>0.936995</td>\n",
       "      <td>0.937595</td>\n",
       "      <td>1.060949</td>\n",
       "    </tr>\n",
       "    <tr>\n",
       "      <th>2</th>\n",
       "      <td>-0.007681</td>\n",
       "      <td>-0.011060</td>\n",
       "      <td>-0.008450</td>\n",
       "      <td>-0.003313</td>\n",
       "      <td>-0.008348</td>\n",
       "      <td>-0.004510</td>\n",
       "      <td>-0.008340</td>\n",
       "      <td>-0.003636</td>\n",
       "      <td>-0.008242</td>\n",
       "      <td>-0.010575</td>\n",
       "      <td>...</td>\n",
       "      <td>0.245180</td>\n",
       "      <td>0.159770</td>\n",
       "      <td>1.063228</td>\n",
       "      <td>1.082313</td>\n",
       "      <td>1.063166</td>\n",
       "      <td>1.088769</td>\n",
       "      <td>1.001500</td>\n",
       "      <td>0.543609</td>\n",
       "      <td>0.995391</td>\n",
       "      <td>1.060949</td>\n",
       "    </tr>\n",
       "    <tr>\n",
       "      <th>3</th>\n",
       "      <td>-0.017675</td>\n",
       "      <td>-0.012013</td>\n",
       "      <td>-0.012038</td>\n",
       "      <td>-0.021174</td>\n",
       "      <td>-0.018692</td>\n",
       "      <td>-0.003882</td>\n",
       "      <td>-0.013477</td>\n",
       "      <td>-0.007505</td>\n",
       "      <td>-0.014245</td>\n",
       "      <td>-0.013097</td>\n",
       "      <td>...</td>\n",
       "      <td>0.209498</td>\n",
       "      <td>0.168248</td>\n",
       "      <td>1.022074</td>\n",
       "      <td>1.117156</td>\n",
       "      <td>1.086076</td>\n",
       "      <td>1.157497</td>\n",
       "      <td>0.978142</td>\n",
       "      <td>0.735437</td>\n",
       "      <td>1.031969</td>\n",
       "      <td>1.060949</td>\n",
       "    </tr>\n",
       "    <tr>\n",
       "      <th>4</th>\n",
       "      <td>-0.009453</td>\n",
       "      <td>-0.006495</td>\n",
       "      <td>-0.006437</td>\n",
       "      <td>-0.008890</td>\n",
       "      <td>-0.005594</td>\n",
       "      <td>-0.008346</td>\n",
       "      <td>-0.004880</td>\n",
       "      <td>-0.004362</td>\n",
       "      <td>-0.003013</td>\n",
       "      <td>-0.008143</td>\n",
       "      <td>...</td>\n",
       "      <td>0.168669</td>\n",
       "      <td>0.198912</td>\n",
       "      <td>0.996385</td>\n",
       "      <td>0.999356</td>\n",
       "      <td>1.003874</td>\n",
       "      <td>1.174798</td>\n",
       "      <td>1.001500</td>\n",
       "      <td>0.831288</td>\n",
       "      <td>1.086271</td>\n",
       "      <td>1.060949</td>\n",
       "    </tr>\n",
       "  </tbody>\n",
       "</table>\n",
       "<p>5 rows × 120 columns</p>\n",
       "</div>"
      ],
      "text/plain": [
       "        0         1         2         3         4         5         6    \\\n",
       "0 -0.002133 -0.000325 -0.000156  0.001114  0.000636 -0.001559  0.001631   \n",
       "1 -0.006262 -0.006898 -0.009834 -0.008837 -0.005583 -0.005103 -0.005215   \n",
       "2 -0.007681 -0.011060 -0.008450 -0.003313 -0.008348 -0.004510 -0.008340   \n",
       "3 -0.017675 -0.012013 -0.012038 -0.021174 -0.018692 -0.003882 -0.013477   \n",
       "4 -0.009453 -0.006495 -0.006437 -0.008890 -0.005594 -0.008346 -0.004880   \n",
       "\n",
       "        7         8         9      ...          110       111       112  \\\n",
       "0  0.001380 -0.006688 -0.007642    ...     0.183381  0.131089  1.110708   \n",
       "1 -0.007236 -0.009539 -0.003813    ...     0.254699  0.152521  0.849700   \n",
       "2 -0.003636 -0.008242 -0.010575    ...     0.245180  0.159770  1.063228   \n",
       "3 -0.007505 -0.014245 -0.013097    ...     0.209498  0.168248  1.022074   \n",
       "4 -0.004362 -0.003013 -0.008143    ...     0.168669  0.198912  0.996385   \n",
       "\n",
       "        113       114       115       116       117       118       119  \n",
       "0  0.890081  0.939189  1.033011  0.996901  0.809074  0.970004  1.060949  \n",
       "1  1.098002  1.046685  1.085901  1.001500  0.936995  0.937595  1.060949  \n",
       "2  1.082313  1.063166  1.088769  1.001500  0.543609  0.995391  1.060949  \n",
       "3  1.117156  1.086076  1.157497  0.978142  0.735437  1.031969  1.060949  \n",
       "4  0.999356  1.003874  1.174798  1.001500  0.831288  1.086271  1.060949  \n",
       "\n",
       "[5 rows x 120 columns]"
      ]
     },
     "execution_count": 13,
     "metadata": {},
     "output_type": "execute_result"
    }
   ],
   "source": [
    "X1=pd.DataFrame(X)\n",
    "X1.head()"
   ]
  },
  {
   "cell_type": "code",
   "execution_count": 14,
   "metadata": {},
   "outputs": [
    {
     "data": {
      "text/plain": [
       "False"
      ]
     },
     "execution_count": 14,
     "metadata": {},
     "output_type": "execute_result"
    }
   ],
   "source": [
    "DataVal.isnull().values.any()"
   ]
  },
  {
   "cell_type": "code",
   "execution_count": 15,
   "metadata": {},
   "outputs": [
    {
     "name": "stdout",
     "output_type": "stream",
     "text": [
      "[0. 1. 1. 1. 1. 1. 0. 0. 1. 1. 0. 0. 0. 1. 0. 0. 0. 1. 0. 1. 1. 1. 1. 1.\n",
      " 1. 1. 0. 1. 1. 1. 1. 1. 1. 0. 1. 1. 0. 0. 0. 0. 1. 0. 1. 1. 1. 1. 1. 0.\n",
      " 0. 0. 0. 1. 0. 1. 0. 1. 1. 1. 1. 0. 1. 0. 1. 1. 1. 1. 0. 1. 0. 1. 1. 1.\n",
      " 1. 0. 0. 0. 0. 0. 0. 0. 1. 1. 0. 1. 0. 1. 1. 0. 0. 0. 1. 1. 0. 0. 1. 1.\n",
      " 1. 0. 1. 1. 1. 0. 1. 1. 1. 1. 1. 1. 1. 0. 1. 1. 1. 0. 1. 1. 1. 0. 1. 1.\n",
      " 1. 0. 0. 1. 0. 1. 0. 0. 1. 0. 0. 0. 0. 0. 1. 1. 0. 0. 0. 1. 1. 0. 0. 1.\n",
      " 0. 1. 0. 1. 1. 0. 0. 1. 1. 1. 0. 0. 0. 1. 1. 0. 1. 0. 0. 0. 1. 1. 1. 0.\n",
      " 1. 0. 0. 1. 1. 1. 0. 1. 1. 0. 0. 0. 0. 0. 1. 1. 0. 0. 1. 0. 1. 1. 1. 1.\n",
      " 0. 1. 1. 1. 1. 1. 0. 0. 0. 1. 1. 1. 1. 1. 0. 1. 0. 1. 0. 1. 1. 1. 1. 0.\n",
      " 0. 1. 0. 1. 1. 1. 1. 1. 1. 0. 1. 0. 0. 1. 0. 0. 1. 0. 1. 1. 1. 1. 1. 1.\n",
      " 1. 0. 1. 0. 0. 1. 1. 1. 1. 1. 1. 1. 0. 0. 0. 0.]\n"
     ]
    }
   ],
   "source": [
    "# Splitting the dataset into the Training set and Test set\n",
    "from sklearn.model_selection import train_test_split\n",
    "X_train, X_test, y_train, y_test = train_test_split(X, y, test_size = 0.2, random_state = 130)\n",
    "print(y_test)"
   ]
  },
  {
   "cell_type": "code",
   "execution_count": 16,
   "metadata": {},
   "outputs": [],
   "source": [
    "# Feature Scaling\n",
    "from sklearn.preprocessing import StandardScaler\n",
    "sc_X = StandardScaler()\n",
    "X_train = sc_X.fit_transform(X_train)\n",
    "X_test = sc_X.transform(X_test)\n",
    "#sc_y = StandardScaler()\n",
    "#y_train = sc_y.fit_transform(y_train)"
   ]
  },
  {
   "cell_type": "code",
   "execution_count": 17,
   "metadata": {},
   "outputs": [],
   "source": [
    "# Fitting Multiple Linear Regression to the Training set\n",
    "from sklearn.linear_model import LinearRegression\n",
    "regressor = LinearRegression()\n",
    "regressor.fit(X_train, y_train)\n",
    "\n",
    "# Predicting the Test set results\n",
    "y_pred = regressor.predict(X_test)"
   ]
  },
  {
   "cell_type": "code",
   "execution_count": 18,
   "metadata": {},
   "outputs": [
    {
     "name": "stdout",
     "output_type": "stream",
     "text": [
      "rmse for linear regression:  0.5297040164863488\n",
      "MAE for linear regression:  0.47736915159059\n"
     ]
    }
   ],
   "source": [
    "from sklearn.metrics import mean_squared_error\n",
    "from sklearn.metrics import mean_absolute_error\n",
    "rmse=np.sqrt(mean_squared_error(y_test,y_pred))\n",
    "mae=mean_absolute_error(y_test,y_pred)\n",
    "print(\"rmse for linear regression: \",rmse)\n",
    "print(\"MAE for linear regression: \",mae)\n"
   ]
  },
  {
   "cell_type": "code",
   "execution_count": 19,
   "metadata": {},
   "outputs": [
    {
     "name": "stdout",
     "output_type": "stream",
     "text": [
      "[0 1 1 1 1 1 0 0 1 1 0 0 0 1 0 0 0 1 0 1 1 1 1 1 1 1 0 1 1 1 1 1 1 0 1 1 0\n",
      " 0 0 0 1 0 1 1 1 1 1 0 0 0 0 1 0 1 0 1 1 1 1 0 1 0 1 1 1 1 0 1 0 1 1 1 1 0\n",
      " 0 0 0 0 0 0 1 1 0 1 0 1 1 0 0 0 1 1 0 0 1 1 1 0 1 1 1 0 1 1 1 1 1 1 1 0 1\n",
      " 1 1 0 1 1 1 0 1 1 1 0 0 1 0 1 0 0 1 0 0 0 0 0 1 1 0 0 0 1 1 0 0 1 0 1 0 1\n",
      " 1 0 0 1 1 1 0 0 0 1 1 0 1 0 0 0 1 1 1 0 1 0 0 1 1 1 0 1 1 0 0 0 0 0 1 1 0\n",
      " 0 1 0 1 1 1 1 0 1 1 1 1 1 0 0 0 1 1 1 1 1 0 1 0 1 0 1 1 1 1 0 0 1 0 1 1 1\n",
      " 1 1 1 0 1 0 0 1 0 0 1 0 1 1 1 1 1 1 1 0 1 0 0 1 1 1 1 1 1 1 0 0 0 0]\n",
      "[1 1 1 ... 1 0 1]\n"
     ]
    }
   ],
   "source": [
    "y_train=y_train.astype(int)\n",
    "y_test=y_test.astype(int)\n",
    "print(y_test)\n",
    "print(y_train)\n"
   ]
  },
  {
   "cell_type": "code",
   "execution_count": 20,
   "metadata": {},
   "outputs": [
    {
     "name": "stdout",
     "output_type": "stream",
     "text": [
      "0.58984375\n"
     ]
    }
   ],
   "source": [
    "from sklearn.metrics import accuracy_score\n",
    "from sklearn.ensemble import GradientBoostingClassifier\n",
    "regress = GradientBoostingClassifier(learning_rate= 0.1, max_depth= 5, \n",
    "                                    min_samples_split= 5, n_estimators= 40, subsample= 0.9)\n",
    "\n",
    "regress.fit(X_train, y_train)\n",
    "y_pred1 = regress.predict(X_test)\n",
    "\n",
    "o = accuracy_score(y_test, y_pred1)\n",
    "print(o)\n",
    "#rmse1 = np.sqrt(mean_squared_error(y_test,y_pred1))\n",
    "#mae1=mean_absolute_error(y_test,y_pred)\n",
    "#print(\"rmse for XGBRegressor: \",rmse1)\n",
    "#print(\"MAE for XGBRegressor: \",mae1)"
   ]
  },
  {
   "cell_type": "code",
   "execution_count": 20,
   "metadata": {},
   "outputs": [
    {
     "name": "stdout",
     "output_type": "stream",
     "text": [
      "Fitting 4 folds for each of 384 candidates, totalling 1536 fits\n"
     ]
    },
    {
     "name": "stderr",
     "output_type": "stream",
     "text": [
      "[Parallel(n_jobs=1)]: Done 1536 out of 1536 | elapsed: 18.6min finished\n"
     ]
    },
    {
     "name": "stdout",
     "output_type": "stream",
     "text": [
      "Best parameters:  {'learning_rate': 0.1, 'max_depth': 4, 'min_samples_split': 7, 'n_estimators': 70, 'subsample': 0.8}\n"
     ]
    }
   ],
   "source": [
    "#########################warning#######################################################\n",
    "\n",
    "\n",
    "\n",
    "#########################large Computation##############################################\n",
    "\n",
    "\n",
    "\n",
    "##GridSearch for GB_Regressor\n",
    "from sklearn.model_selection import GridSearchCV\n",
    "gbm_param_grid1 = {\n",
    "   'learning_rate':[0.1,0.2],\n",
    "    'n_estimators':[50,40,60,70], \n",
    "    'max_depth': [5,6,4],\n",
    "    'min_samples_split': [4,5,6,7],\n",
    "    'subsample':[0.7,0.6,0.8,0.9]\n",
    "}\n",
    "grid_mse = GridSearchCV(estimator=regress, param_grid=gbm_param_grid1,\n",
    "                        scoring='neg_mean_squared_error', cv=4, verbose=1)\n",
    "grid_mse.fit(X_train, y_train)\n",
    "print(\"Best parameters: \",grid_mse.best_params_)"
   ]
  },
  {
   "cell_type": "code",
   "execution_count": 21,
   "metadata": {},
   "outputs": [
    {
     "name": "stdout",
     "output_type": "stream",
     "text": [
      "0.59765625\n",
      "rmse for xgboost:  0.6343057228182637\n",
      "MAE for xgboost:  0.40234375\n"
     ]
    },
    {
     "name": "stderr",
     "output_type": "stream",
     "text": [
      "C:\\ProgramData\\Anaconda3\\lib\\site-packages\\sklearn\\preprocessing\\label.py:151: DeprecationWarning: The truth value of an empty array is ambiguous. Returning False, but in future this will result in an error. Use `array.size > 0` to check that an array is not empty.\n",
      "  if diff:\n"
     ]
    }
   ],
   "source": [
    "import xgboost as xgb\n",
    "regressor1 = xgb.XGBClassifier(colsample_bylevel= 0.2, colsample_bytree= 0.3,\n",
    "                             learning_rate= 0.1, max_depth= 2, \n",
    "                             min_child_weight= 3, n_estimators= 50)\n",
    "regressor1.fit(X_train, y_train)\n",
    "y_pred = regressor1.predict(X_test)\n",
    "rmse2= np.sqrt(mean_squared_error(y_test,y_pred))\n",
    "mae2=mean_absolute_error(y_test,y_pred)\n",
    "o = accuracy_score(y_test, y_pred)\n",
    "print(o)\n",
    "print(\"rmse for xgboost: \",rmse2)\n",
    "print(\"MAE for xgboost: \",mae2)"
   ]
  },
  {
   "cell_type": "code",
   "execution_count": 22,
   "metadata": {},
   "outputs": [
    {
     "ename": "NameError",
     "evalue": "name 'GridSearchCV' is not defined",
     "output_type": "error",
     "traceback": [
      "\u001b[1;31m---------------------------------------------------------------------------\u001b[0m",
      "\u001b[1;31mNameError\u001b[0m                                 Traceback (most recent call last)",
      "\u001b[1;32m<ipython-input-22-45ea100e3845>\u001b[0m in \u001b[0;36m<module>\u001b[1;34m()\u001b[0m\n\u001b[0;32m     21\u001b[0m     \u001b[1;34m'min_child_weight'\u001b[0m\u001b[1;33m:\u001b[0m \u001b[1;33m[\u001b[0m\u001b[1;36m1\u001b[0m\u001b[1;33m,\u001b[0m\u001b[1;36m2\u001b[0m\u001b[1;33m,\u001b[0m\u001b[1;36m3\u001b[0m\u001b[1;33m]\u001b[0m\u001b[1;33m\u001b[0m\u001b[0m\n\u001b[0;32m     22\u001b[0m }\n\u001b[1;32m---> 23\u001b[1;33m grid_mse = GridSearchCV(estimator=regressor1, param_grid=gbm_param_grid,\n\u001b[0m\u001b[0;32m     24\u001b[0m                         scoring='neg_mean_squared_error', cv=4, verbose=1)\n\u001b[0;32m     25\u001b[0m \u001b[0mgrid_mse\u001b[0m\u001b[1;33m.\u001b[0m\u001b[0mfit\u001b[0m\u001b[1;33m(\u001b[0m\u001b[0mX_train\u001b[0m\u001b[1;33m,\u001b[0m \u001b[0my_train\u001b[0m\u001b[1;33m)\u001b[0m\u001b[1;33m\u001b[0m\u001b[0m\n",
      "\u001b[1;31mNameError\u001b[0m: name 'GridSearchCV' is not defined"
     ]
    }
   ],
   "source": [
    "#########################warning#######################################################\n",
    "\n",
    "\n",
    "\n",
    "#########################large Computation##############################################\n",
    "\n",
    "\n",
    "\n",
    "\n",
    "\n",
    "\n",
    "regressor1 = xgb.XGBRegressor()\n",
    "abalone_dmatrix = xgb.DMatrix(data=X_train, label=y_train)\n",
    "\n",
    "gbm_param_grid = {\n",
    "    'colsample_bytree': [0.3, 0.7],\n",
    "    'n_estimators': [50,100,200],\n",
    "    'max_depth': [2,3,4],\n",
    "    'learning_rate': [0.1,0.2,0.3],\n",
    "    'colsample_bylevel': [0.2,0.7,1],\n",
    "    'min_child_weight': [1,2,3]\n",
    "}\n",
    "grid_mse = GridSearchCV(estimator=regressor1, param_grid=gbm_param_grid,\n",
    "                        scoring='neg_mean_squared_error', cv=4, verbose=1)\n",
    "grid_mse.fit(X_train, y_train)\n",
    "print(\"Best parameters: \",grid_mse.best_params_)"
   ]
  },
  {
   "cell_type": "code",
   "execution_count": null,
   "metadata": {
    "scrolled": true
   },
   "outputs": [],
   "source": [
    "data1 = pd.DataFrame(y_pred)\n",
    "data2 = pd.DataFrame(y_test)\n",
    "#data1.join(data2)\n",
    "label=[\"real\"]\n",
    "data2.columns=label\n",
    "data1.join(data2)"
   ]
  },
  {
   "cell_type": "code",
   "execution_count": null,
   "metadata": {},
   "outputs": [],
   "source": []
  },
  {
   "cell_type": "code",
   "execution_count": null,
   "metadata": {},
   "outputs": [],
   "source": [
    "#y_train=y_train.astype(int)\n",
    "#y_test=y_test.astype(int)\n",
    "print(np.shape(y_train))\n",
    "print(np.shape(X_train))\n",
    "pdmama= pd.DataFrame(X_train)\n",
    "pam= pd.DataFrame(y_train)\n",
    "pdmama[\"label\"]= y_train\n",
    "pdmama.head()"
   ]
  },
  {
   "cell_type": "code",
   "execution_count": null,
   "metadata": {},
   "outputs": [],
   "source": [
    "from keras.callbacks import EarlyStopping\n",
    "earlystopping=EarlyStopping(patience=3)"
   ]
  },
  {
   "cell_type": "code",
   "execution_count": null,
   "metadata": {},
   "outputs": [],
   "source": [
    "from keras.models import Sequential\n",
    "from keras.layers import Dense , Activation\n",
    "\n",
    "# Create the model\n",
    "model_1 = Sequential()\n",
    "model_1.add(Dense(128, input_shape= (120,), activation='relu'))\n",
    "model_1.add(Dense(256,  activation='relu'))\n",
    "model_1.add(Dense(512, activation='relu'))\n",
    "model_1.add(Dense(1, activation='softmax'))\n",
    "model_1.compile(loss='mean_squared_error', optimizer='sgd', metrics=['accuracy'])\n",
    "model_1.fit(X_train, y_train, epochs=25,callbacks=[earlystopping])\n",
    "\n",
    "y_pred1 = model_1.predict(X_test)\n",
    "print(y_pred1)\n"
   ]
  },
  {
   "cell_type": "code",
   "execution_count": 23,
   "metadata": {},
   "outputs": [
    {
     "name": "stdout",
     "output_type": "stream",
     "text": [
      "   mama\n",
      "0     1\n",
      "1     1\n",
      "2     0\n",
      "3     1\n",
      "4     1\n",
      "   mama\n",
      "0     1\n",
      "1     1\n",
      "2     0\n",
      "3     1\n",
      "4     1\n"
     ]
    },
    {
     "name": "stderr",
     "output_type": "stream",
     "text": [
      "C:\\ProgramData\\Anaconda3\\lib\\site-packages\\ipykernel_launcher.py:6: FutureWarning: get_value is deprecated and will be removed in a future release. Please use .at[] or .iat[] accessors instead\n",
      "  \n",
      "C:\\ProgramData\\Anaconda3\\lib\\site-packages\\ipykernel_launcher.py:9: FutureWarning: set_value is deprecated and will be removed in a future release. Please use .at[] or .iat[] accessors instead\n",
      "  if __name__ == '__main__':\n",
      "C:\\ProgramData\\Anaconda3\\lib\\site-packages\\ipykernel_launcher.py:11: FutureWarning: set_value is deprecated and will be removed in a future release. Please use .at[] or .iat[] accessors instead\n",
      "  # This is added back by InteractiveShellApp.init_path()\n"
     ]
    }
   ],
   "source": [
    "##making the the valance binary \n",
    "gg=pd.DataFrame(y_pred1)\n",
    "gg.columns=[\"mama\"]\n",
    "print(gg.head())\n",
    "for idx in gg.index:\n",
    "    q = gg.get_value(idx, 'mama')\n",
    "    #print(q)\n",
    "    if q>=0.5:\n",
    "        gg.set_value(idx,'mama',1)\n",
    "    else :\n",
    "        gg.set_value(idx,'mama',0)\n",
    "print(gg.head())\n"
   ]
  },
  {
   "cell_type": "code",
   "execution_count": 24,
   "metadata": {},
   "outputs": [
    {
     "name": "stdout",
     "output_type": "stream",
     "text": [
      "[[1]\n",
      " [1]\n",
      " [0]\n",
      " [1]\n",
      " [1]\n",
      " [1]\n",
      " [1]\n",
      " [1]\n",
      " [1]\n",
      " [1]\n",
      " [0]\n",
      " [1]\n",
      " [1]\n",
      " [1]\n",
      " [1]\n",
      " [1]\n",
      " [1]\n",
      " [1]\n",
      " [1]\n",
      " [0]\n",
      " [1]\n",
      " [1]\n",
      " [0]\n",
      " [1]\n",
      " [1]\n",
      " [0]\n",
      " [1]\n",
      " [1]\n",
      " [0]\n",
      " [1]\n",
      " [1]\n",
      " [1]\n",
      " [1]\n",
      " [1]\n",
      " [1]\n",
      " [0]\n",
      " [0]\n",
      " [1]\n",
      " [0]\n",
      " [1]\n",
      " [1]\n",
      " [0]\n",
      " [1]\n",
      " [0]\n",
      " [0]\n",
      " [1]\n",
      " [1]\n",
      " [1]\n",
      " [1]\n",
      " [0]\n",
      " [0]\n",
      " [0]\n",
      " [1]\n",
      " [1]\n",
      " [1]\n",
      " [0]\n",
      " [1]\n",
      " [1]\n",
      " [1]\n",
      " [0]\n",
      " [0]\n",
      " [1]\n",
      " [1]\n",
      " [1]\n",
      " [1]\n",
      " [1]\n",
      " [1]\n",
      " [1]\n",
      " [0]\n",
      " [1]\n",
      " [1]\n",
      " [1]\n",
      " [1]\n",
      " [1]\n",
      " [0]\n",
      " [0]\n",
      " [1]\n",
      " [0]\n",
      " [1]\n",
      " [1]\n",
      " [1]\n",
      " [1]\n",
      " [1]\n",
      " [1]\n",
      " [0]\n",
      " [0]\n",
      " [1]\n",
      " [1]\n",
      " [0]\n",
      " [1]\n",
      " [1]\n",
      " [0]\n",
      " [1]\n",
      " [0]\n",
      " [0]\n",
      " [1]\n",
      " [1]\n",
      " [0]\n",
      " [0]\n",
      " [0]\n",
      " [1]\n",
      " [1]\n",
      " [1]\n",
      " [0]\n",
      " [1]\n",
      " [0]\n",
      " [1]\n",
      " [1]\n",
      " [0]\n",
      " [1]\n",
      " [1]\n",
      " [1]\n",
      " [1]\n",
      " [1]\n",
      " [1]\n",
      " [1]\n",
      " [1]\n",
      " [1]\n",
      " [0]\n",
      " [0]\n",
      " [0]\n",
      " [1]\n",
      " [1]\n",
      " [0]\n",
      " [0]\n",
      " [1]\n",
      " [1]\n",
      " [0]\n",
      " [1]\n",
      " [1]\n",
      " [0]\n",
      " [1]\n",
      " [1]\n",
      " [0]\n",
      " [1]\n",
      " [1]\n",
      " [0]\n",
      " [1]\n",
      " [1]\n",
      " [1]\n",
      " [1]\n",
      " [0]\n",
      " [1]\n",
      " [0]\n",
      " [0]\n",
      " [1]\n",
      " [0]\n",
      " [0]\n",
      " [1]\n",
      " [1]\n",
      " [1]\n",
      " [1]\n",
      " [1]\n",
      " [1]\n",
      " [0]\n",
      " [1]\n",
      " [0]\n",
      " [0]\n",
      " [0]\n",
      " [1]\n",
      " [0]\n",
      " [1]\n",
      " [1]\n",
      " [1]\n",
      " [1]\n",
      " [1]\n",
      " [1]\n",
      " [0]\n",
      " [1]\n",
      " [0]\n",
      " [1]\n",
      " [1]\n",
      " [1]\n",
      " [1]\n",
      " [1]\n",
      " [0]\n",
      " [1]\n",
      " [1]\n",
      " [1]\n",
      " [1]\n",
      " [1]\n",
      " [0]\n",
      " [1]\n",
      " [1]\n",
      " [1]\n",
      " [1]\n",
      " [1]\n",
      " [1]\n",
      " [1]\n",
      " [1]\n",
      " [1]\n",
      " [1]\n",
      " [1]\n",
      " [1]\n",
      " [1]\n",
      " [1]\n",
      " [1]\n",
      " [1]\n",
      " [1]\n",
      " [1]\n",
      " [0]\n",
      " [1]\n",
      " [0]\n",
      " [1]\n",
      " [0]\n",
      " [0]\n",
      " [0]\n",
      " [1]\n",
      " [0]\n",
      " [1]\n",
      " [0]\n",
      " [1]\n",
      " [1]\n",
      " [1]\n",
      " [1]\n",
      " [0]\n",
      " [0]\n",
      " [0]\n",
      " [0]\n",
      " [1]\n",
      " [0]\n",
      " [1]\n",
      " [0]\n",
      " [1]\n",
      " [1]\n",
      " [0]\n",
      " [1]\n",
      " [1]\n",
      " [0]\n",
      " [1]\n",
      " [0]\n",
      " [0]\n",
      " [1]\n",
      " [1]\n",
      " [1]\n",
      " [1]\n",
      " [0]\n",
      " [0]\n",
      " [0]\n",
      " [1]\n",
      " [1]\n",
      " [0]\n",
      " [1]\n",
      " [1]\n",
      " [1]\n",
      " [0]\n",
      " [1]\n",
      " [1]\n",
      " [1]\n",
      " [0]\n",
      " [1]\n",
      " [1]\n",
      " [0]\n",
      " [0]\n",
      " [1]\n",
      " [1]]\n"
     ]
    }
   ],
   "source": [
    "y_pred=gg.values\n",
    "\n",
    "y_pred=y_pred.astype(int)\n",
    "\n",
    "print(y_pred)\n"
   ]
  },
  {
   "cell_type": "code",
   "execution_count": null,
   "metadata": {},
   "outputs": [],
   "source": []
  },
  {
   "cell_type": "code",
   "execution_count": 25,
   "metadata": {},
   "outputs": [
    {
     "name": "stdout",
     "output_type": "stream",
     "text": [
      "0.58984375\n"
     ]
    }
   ],
   "source": [
    "o = accuracy_score(y_test, y_pred)\n",
    "print(o)"
   ]
  },
  {
   "cell_type": "code",
   "execution_count": 26,
   "metadata": {},
   "outputs": [
    {
     "ename": "ModuleNotFoundError",
     "evalue": "No module named 'keras'",
     "output_type": "error",
     "traceback": [
      "\u001b[1;31m---------------------------------------------------------------------------\u001b[0m",
      "\u001b[1;31mModuleNotFoundError\u001b[0m                       Traceback (most recent call last)",
      "\u001b[1;32m<ipython-input-26-26eff32bec5d>\u001b[0m in \u001b[0;36m<module>\u001b[1;34m()\u001b[0m\n\u001b[1;32m----> 1\u001b[1;33m \u001b[1;32mfrom\u001b[0m \u001b[0mkeras\u001b[0m\u001b[1;33m.\u001b[0m\u001b[0mmodels\u001b[0m \u001b[1;32mimport\u001b[0m \u001b[0mSequential\u001b[0m\u001b[1;33m\u001b[0m\u001b[0m\n\u001b[0m\u001b[0;32m      2\u001b[0m \u001b[1;32mfrom\u001b[0m \u001b[0mkeras\u001b[0m\u001b[1;33m.\u001b[0m\u001b[0mlayers\u001b[0m \u001b[1;32mimport\u001b[0m \u001b[0mDense\u001b[0m \u001b[1;33m,\u001b[0m \u001b[0mActivation\u001b[0m\u001b[1;33m\u001b[0m\u001b[0m\n\u001b[0;32m      3\u001b[0m \u001b[1;33m\u001b[0m\u001b[0m\n\u001b[0;32m      4\u001b[0m \u001b[1;31m# Create the model\u001b[0m\u001b[1;33m\u001b[0m\u001b[1;33m\u001b[0m\u001b[0m\n\u001b[0;32m      5\u001b[0m \u001b[0mmodel_1\u001b[0m \u001b[1;33m=\u001b[0m \u001b[0mSequential\u001b[0m\u001b[1;33m(\u001b[0m\u001b[1;33m)\u001b[0m\u001b[1;33m\u001b[0m\u001b[0m\n",
      "\u001b[1;31mModuleNotFoundError\u001b[0m: No module named 'keras'"
     ]
    }
   ],
   "source": [
    "from keras.models import Sequential\n",
    "from keras.layers import Dense , Activation\n",
    "\n",
    "# Create the model\n",
    "model_1 = Sequential()\n",
    "model_1.add(Dense(100, input_dim=120, activation='relu'))\n",
    "model_1.add(Dense(20, activation='relu'))\n",
    "model_1.add(Dense(1, activation='sigmoid'))\n",
    "model_1.compile(loss='binary_crossentropy', optimizer='adam', metrics=['accuracy'])\n",
    "model_1.fit(X_train, y_train, epochs=25)\n",
    "\n",
    "y_pred1 = model_1.predict(X_test)\n",
    "print(y_pred1)"
   ]
  },
  {
   "cell_type": "code",
   "execution_count": 27,
   "metadata": {},
   "outputs": [],
   "source": [
    "from sklearn.feature_selection import SelectKBest, chi2,f_classif\n",
    "X_new = SelectKBest(f_classif, k=40).fit_transform(X, y)\n",
    "np.shape(X_new)\n",
    "X= X_new"
   ]
  },
  {
   "cell_type": "code",
   "execution_count": null,
   "metadata": {},
   "outputs": [],
   "source": []
  },
  {
   "cell_type": "code",
   "execution_count": null,
   "metadata": {},
   "outputs": [],
   "source": []
  },
  {
   "cell_type": "code",
   "execution_count": null,
   "metadata": {},
   "outputs": [],
   "source": []
  },
  {
   "cell_type": "code",
   "execution_count": null,
   "metadata": {},
   "outputs": [],
   "source": []
  },
  {
   "cell_type": "code",
   "execution_count": null,
   "metadata": {},
   "outputs": [],
   "source": []
  }
 ],
 "metadata": {
  "kernelspec": {
   "display_name": "Python 3",
   "language": "python",
   "name": "python3"
  },
  "language_info": {
   "codemirror_mode": {
    "name": "ipython",
    "version": 3
   },
   "file_extension": ".py",
   "mimetype": "text/x-python",
   "name": "python",
   "nbconvert_exporter": "python",
   "pygments_lexer": "ipython3",
   "version": "3.6.5"
  }
 },
 "nbformat": 4,
 "nbformat_minor": 2
}
